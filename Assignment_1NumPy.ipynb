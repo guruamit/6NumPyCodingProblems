{
 "cells": [
  {
   "cell_type": "code",
   "execution_count": 16,
   "id": "230857e1",
   "metadata": {},
   "outputs": [],
   "source": [
    "import numpy as np\n"
   ]
  },
  {
   "cell_type": "markdown",
   "id": "1d835f45",
   "metadata": {},
   "source": [
    "# 1. Create a null vector of size 10 but the fifth value which is 1."
   ]
  },
  {
   "cell_type": "code",
   "execution_count": 18,
   "id": "5c0dc9ae",
   "metadata": {},
   "outputs": [
    {
     "name": "stdout",
     "output_type": "stream",
     "text": [
      "[0. 0. 0. 0. 1. 0. 0. 0. 0. 0.]\n"
     ]
    }
   ],
   "source": [
    "x=np.zeros(10)\n",
    "x[4]=1\n",
    "print(x)"
   ]
  },
  {
   "cell_type": "markdown",
   "id": "25d50fe9",
   "metadata": {},
   "source": [
    "# 2. Create a vector with values ranging from 10 to 49."
   ]
  },
  {
   "cell_type": "code",
   "execution_count": 30,
   "id": "8460bbb9",
   "metadata": {},
   "outputs": [
    {
     "name": "stdout",
     "output_type": "stream",
     "text": [
      "vector with values ranging:\n",
      "[10 11 12 13 14 15 16 17 18 19 20 21 22 23 24 25 26 27 28 29 30 31 32 33\n",
      " 34 35 36 37 38 39 40 41 42 43 44 45 46 47 48 49]\n"
     ]
    }
   ],
   "source": [
    "x = np.arange(10,50)\n",
    "print(\"vector with values ranging:\")\n",
    "print(x)\n"
   ]
  },
  {
   "cell_type": "markdown",
   "id": "7d63cf09",
   "metadata": {},
   "source": [
    "# 3. Create a 3x3 matrix with values ranging from 0 to 8"
   ]
  },
  {
   "cell_type": "code",
   "execution_count": 28,
   "id": "dd8807ba",
   "metadata": {},
   "outputs": [
    {
     "name": "stdout",
     "output_type": "stream",
     "text": [
      "[[0 1 2]\n",
      " [3 4 5]\n",
      " [6 7 8]]\n"
     ]
    }
   ],
   "source": [
    "x =  np.arange(0,9)\n",
    "x = x.reshape(3,3)\n",
    "print(x)"
   ]
  },
  {
   "cell_type": "markdown",
   "id": "662d3389",
   "metadata": {},
   "source": [
    "# 4. Find indices of non-zero elements from [1,2,0,0,4,0]"
   ]
  },
  {
   "cell_type": "code",
   "execution_count": 35,
   "id": "40b567e7",
   "metadata": {},
   "outputs": [
    {
     "data": {
      "text/plain": [
       "(array([0, 1, 4], dtype=int64),)"
      ]
     },
     "execution_count": 35,
     "metadata": {},
     "output_type": "execute_result"
    }
   ],
   "source": [
    "x = [1,2,0,0,4,0]\n",
    "np.nonzero(x)"
   ]
  },
  {
   "cell_type": "markdown",
   "id": "ece01752",
   "metadata": {},
   "source": [
    "# 5. Create a 10x10 array with random values and find the minimum and maximum values."
   ]
  },
  {
   "cell_type": "code",
   "execution_count": 42,
   "id": "4e74a336",
   "metadata": {},
   "outputs": [
    {
     "name": "stdout",
     "output_type": "stream",
     "text": [
      "The 10*10 array with random values :\n",
      "[[0.85355031 0.64953443 0.33882039 0.75475696 0.14819266 0.14246512\n",
      "  0.71911226 0.18213469 0.10492181 0.2563258 ]\n",
      " [0.13271461 0.09558571 0.95797229 0.02705183 0.4605604  0.8119543\n",
      "  0.58986144 0.54405574 0.02782191 0.50232367]\n",
      " [0.77743802 0.63438179 0.03962486 0.24030496 0.71959748 0.72477182\n",
      "  0.35468062 0.99999901 0.11912989 0.56932092]\n",
      " [0.3498986  0.34419954 0.5750434  0.76189959 0.3773373  0.05688865\n",
      "  0.18029478 0.34802229 0.7961622  0.25772203]\n",
      " [0.41168757 0.06026551 0.10773755 0.80920129 0.94978004 0.18799551\n",
      "  0.07181165 0.10882279 0.60645403 0.92321627]\n",
      " [0.14310245 0.21640601 0.97461614 0.2068915  0.14931591 0.98623073\n",
      "  0.39360027 0.58414332 0.03984223 0.18064111]\n",
      " [0.41682209 0.72072731 0.01601676 0.02158235 0.87967935 0.11767434\n",
      "  0.25779598 0.1152266  0.71063606 0.77440613]\n",
      " [0.07669431 0.13257913 0.50680032 0.94105881 0.70480366 0.82810468\n",
      "  0.38741389 0.3493509  0.05596111 0.88438853]\n",
      " [0.74993094 0.1209653  0.90011715 0.52855279 0.46214571 0.05971467\n",
      "  0.71335824 0.03925793 0.71441844 0.0882385 ]\n",
      " [0.19840401 0.26047767 0.8714056  0.56648155 0.8670179  0.447887\n",
      "  0.36128854 0.79477824 0.55080369 0.54348998]]\n",
      "The minimum values in the array : 0.0160167606018099\n",
      "The maximum values in the array : 0.9999990080138751\n"
     ]
    }
   ],
   "source": [
    "x = np.random.random((10,10))\n",
    "print(\"The 10*10 array with random values :\")\n",
    "print(x)\n",
    "print(\"The minimum values in the array :\",x.min())\n",
    "print(\"The maximum values in the array :\",x.max())"
   ]
  },
  {
   "cell_type": "markdown",
   "id": "f39e7df6",
   "metadata": {},
   "source": [
    "# 6. Create a random vector of size 30 and find the mean value."
   ]
  },
  {
   "cell_type": "code",
   "execution_count": 46,
   "id": "70a82036",
   "metadata": {},
   "outputs": [
    {
     "name": "stdout",
     "output_type": "stream",
     "text": [
      "Random vector of size 30 array:\n",
      "[0.1748892  0.78615934 0.08407541 0.92551247 0.15343194 0.28745892\n",
      " 0.96158142 0.10283924 0.97854305 0.04451657 0.62405274 0.81074344\n",
      " 0.89470262 0.54730289 0.17164693 0.54369837 0.97641619 0.48120749\n",
      " 0.61171908 0.35300467 0.04374628 0.67871178 0.37951351 0.41304608\n",
      " 0.09551292 0.57998549 0.00945951 0.56930384 0.03656982 0.94414575]\n",
      "The mean of the array is : 0.47544989896343154\n"
     ]
    }
   ],
   "source": [
    "x = np.random.random(30)\n",
    "print(\"Random vector of size 30 array:\")\n",
    "print(x)\n",
    "print(\"The mean of the array is :\",x.mean())"
   ]
  },
  {
   "cell_type": "code",
   "execution_count": null,
   "id": "e0169f5e",
   "metadata": {},
   "outputs": [],
   "source": []
  },
  {
   "cell_type": "code",
   "execution_count": null,
   "id": "cae1a9ed",
   "metadata": {},
   "outputs": [],
   "source": []
  }
 ],
 "metadata": {
  "kernelspec": {
   "display_name": "Python 3 (ipykernel)",
   "language": "python",
   "name": "python3"
  },
  "language_info": {
   "codemirror_mode": {
    "name": "ipython",
    "version": 3
   },
   "file_extension": ".py",
   "mimetype": "text/x-python",
   "name": "python",
   "nbconvert_exporter": "python",
   "pygments_lexer": "ipython3",
   "version": "3.9.7"
  }
 },
 "nbformat": 4,
 "nbformat_minor": 5
}
